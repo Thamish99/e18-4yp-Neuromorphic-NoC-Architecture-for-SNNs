{
 "cells": [
  {
   "cell_type": "code",
   "execution_count": 22,
   "id": "8f76fd03-4d73-45e3-b417-43fc92763e6e",
   "metadata": {},
   "outputs": [],
   "source": [
    "import torch\n",
    "import torch.nn as nn\n",
    "from spikingjelly.activation_based import layer, neuron, surrogate\n",
    "from spikingjelly.activation_based import encoding\n",
    "\n",
    "tau = 2.0"
   ]
  },
  {
   "cell_type": "code",
   "execution_count": 23,
   "id": "19b51e6d-5f0d-4c75-8042-164c15630d25",
   "metadata": {},
   "outputs": [],
   "source": [
    "net = nn.Sequential(\n",
    "    layer.Flatten(),\n",
    "    layer.Linear(28 * 28, 10, bias=False),\n",
    "    neuron.LIFNode(tau=tau, surrogate_function=surrogate.ATan())\n",
    "    )"
   ]
  },
  {
   "cell_type": "code",
   "execution_count": 21,
   "id": "0d4dd1fb-894d-4cba-811c-f2f19c1c6405",
   "metadata": {},
   "outputs": [
    {
     "ename": "NameError",
     "evalue": "name 'lr' is not defined",
     "output_type": "error",
     "traceback": [
      "\u001b[1;31m---------------------------------------------------------------------------\u001b[0m",
      "\u001b[1;31mNameError\u001b[0m                                 Traceback (most recent call last)",
      "Cell \u001b[1;32mIn[21], line 2\u001b[0m\n\u001b[0;32m      1\u001b[0m \u001b[38;5;66;03m# Use Adam optimizer\u001b[39;00m\n\u001b[1;32m----> 2\u001b[0m optimizer \u001b[38;5;241m=\u001b[39m torch\u001b[38;5;241m.\u001b[39moptim\u001b[38;5;241m.\u001b[39mAdam(net\u001b[38;5;241m.\u001b[39mparameters(), lr\u001b[38;5;241m=\u001b[39m\u001b[43mlr\u001b[49m)\n\u001b[0;32m      3\u001b[0m \u001b[38;5;66;03m# Use PoissonEncoder\u001b[39;00m\n\u001b[0;32m      4\u001b[0m encoder \u001b[38;5;241m=\u001b[39m encoding\u001b[38;5;241m.\u001b[39mPoissonEncoder()\n",
      "\u001b[1;31mNameError\u001b[0m: name 'lr' is not defined"
     ]
    }
   ],
   "source": [
    "# Use Adam optimizer\n",
    "optimizer = torch.optim.Adam(net.parameters(), lr=lr)\n",
    "# Use PoissonEncoder\n",
    "encoder = encoding.PoissonEncoder()"
   ]
  },
  {
   "cell_type": "code",
   "execution_count": null,
   "id": "98473c12-d05b-4056-8ffb-4259beae81a5",
   "metadata": {},
   "outputs": [],
   "source": []
  }
 ],
 "metadata": {
  "kernelspec": {
   "display_name": "Python 3 (ipykernel)",
   "language": "python",
   "name": "python3"
  },
  "language_info": {
   "codemirror_mode": {
    "name": "ipython",
    "version": 3
   },
   "file_extension": ".py",
   "mimetype": "text/x-python",
   "name": "python",
   "nbconvert_exporter": "python",
   "pygments_lexer": "ipython3",
   "version": "3.12.0"
  }
 },
 "nbformat": 4,
 "nbformat_minor": 5
}
